{
 "cells": [
  {
   "cell_type": "markdown",
   "id": "53975210",
   "metadata": {},
   "source": [
    "Question 1 \n"
   ]
  },
  {
   "cell_type": "markdown",
   "id": "8c0b8ba3",
   "metadata": {},
   "source": [
    "* 5 is a integer\n",
    "* 5.0 is float variable\n",
    "* 5>1 is a boolean variable\n",
    "* '5' is String Variable\n",
    "* 5 * 2 is an algebraic expression\n",
    "* '5' * 2 is an string expression\n",
    "* '5' + '2' is an string expression\n",
    "* 5/2 is an algebraic expression\n",
    "* 5%2 is an algebraic expression\n",
    "* {5,2,1} is an dictionary \n",
    "* 5 == 3 is a boolean variable\n",
    "* pi(number) is a float variable\n",
    "\n"
   ]
  },
  {
   "cell_type": "markdown",
   "id": "0296f3a3",
   "metadata": {},
   "source": [
    "Question 2 "
   ]
  },
  {
   "cell_type": "markdown",
   "id": "dab2cb31",
   "metadata": {},
   "source": [
    "question 2(a)\n"
   ]
  },
  {
   "cell_type": "code",
   "execution_count": 103,
   "id": "1ec5ca1a",
   "metadata": {},
   "outputs": [
    {
     "name": "stdout",
     "output_type": "stream",
     "text": [
      "The number of words in the string are 34\n"
     ]
    }
   ],
   "source": [
    "word = 'Supercalifragilisticexpialidocious'\n",
    "size = len(word)\n",
    "print('The number of words in the string are' ,size)\n",
    "\n",
    "\n",
    "    "
   ]
  },
  {
   "cell_type": "markdown",
   "id": "4ffd3a0f",
   "metadata": {},
   "source": [
    "Question 2(b)"
   ]
  },
  {
   "cell_type": "code",
   "execution_count": 27,
   "id": "203c2b1e",
   "metadata": {},
   "outputs": [
    {
     "name": "stdout",
     "output_type": "stream",
     "text": [
      "ice exists in Supercalifragilisticexpialidocious\n"
     ]
    }
   ],
   "source": [
    "string = 'Supercalifragilisticexpialidocious'\n",
    "if 'ice' in string:\n",
    "    print(\"ice exists in \" + string )\n",
    "else:\n",
    "    print('ice does not exist in '+ string)\n"
   ]
  },
  {
   "cell_type": "markdown",
   "id": "6839e0ea",
   "metadata": {},
   "source": [
    "question 2(c)"
   ]
  },
  {
   "cell_type": "code",
   "execution_count": 256,
   "id": "e30f25e5",
   "metadata": {},
   "outputs": [
    {
     "name": "stdout",
     "output_type": "stream",
     "text": [
      "Supercalifragilisticexpialidocious  and  Bababadalgharaghtakamminarronnkonn  have the same length\n"
     ]
    }
   ],
   "source": [
    "str1 = 'Supercalifragilisticexpialidocious'\n",
    "str2 = 'Honorificabilitudinitatibus'\n",
    "str3 = 'Bababadalgharaghtakamminarronnkonn'\n",
    "count1=len(str1) \n",
    "count2=len(str2)\n",
    "count3=len(str3)\n",
    "\n",
    "if (count3>count2) and (count3>count1):\n",
    "    print('the longest word is ',str3)\n",
    "elif (count2>count1) and (count2>count3):\n",
    "    print(\"the longest word is\",str2)\n",
    "elif (count1>count2) and (count1>count3):\n",
    "    print(\"the longest word is\",str1)\n",
    "elif (count1==count2):\n",
    "    print(str1,\" and \",str2,\" have the same length \")\n",
    "elif(count2==count3):\n",
    "    print(str2,\" and \",str3,\" have the same length \")\n",
    "else:\n",
    "    print(str1,\" and \",str3,\" have the same length\")\n",
    "\n",
    "\n"
   ]
  },
  {
   "cell_type": "markdown",
   "id": "fe01034b",
   "metadata": {},
   "source": [
    "question 2(d)"
   ]
  },
  {
   "cell_type": "code",
   "execution_count": 380,
   "id": "d6548160",
   "metadata": {},
   "outputs": [
    {
     "name": "stdout",
     "output_type": "stream",
     "text": [
      "The sorted list is  ['Bartok', 'Bellini', 'Berlioz', 'Bernstein', 'Borodin', 'Brian', 'Buxtehude']\n",
      "The first composer in the list is Bartok  and the last composer in the list is  Buxtehude\n"
     ]
    }
   ],
   "source": [
    "composers=['Berlioz', 'Borodin', 'Brian',\n",
    "'Bartok', 'Bellini', 'Buxtehude', 'Bernstein']\n",
    "composers.sort()# refrenced on how to use sort function https://www.w3schools.com/python/ref_list_sort.asp\n",
    "print('The sorted list is ',composers)\n",
    "print(\"The first composer in the list is\",composers[0],\" and the last composer in the list is \",composers[-1])"
   ]
  },
  {
   "cell_type": "markdown",
   "id": "8ebd6af9",
   "metadata": {},
   "source": [
    "question 3 "
   ]
  },
  {
   "cell_type": "code",
   "execution_count": null,
   "id": "96082b9d",
   "metadata": {},
   "outputs": [],
   "source": [
    "import math\n",
    "def triangle(a,b,c):\n",
    "    s= (a+b+c)/2\n",
    "    area=math.sqrt(s*(s-a)*(s-b)*(s-c))#refrenced class slides on how to use math package\n",
    "    return area\n",
    "\n",
    "    \n"
   ]
  },
  {
   "cell_type": "code",
   "execution_count": 93,
   "id": "b546326f",
   "metadata": {},
   "outputs": [
    {
     "data": {
      "text/plain": [
       "1.7320508075688772"
      ]
     },
     "execution_count": 93,
     "metadata": {},
     "output_type": "execute_result"
    }
   ],
   "source": [
    "triangle(2,2,2)"
   ]
  },
  {
   "cell_type": "markdown",
   "id": "f3c85ed3",
   "metadata": {},
   "source": [
    "question 4"
   ]
  },
  {
   "cell_type": "code",
   "execution_count": 92,
   "id": "fd7b2535",
   "metadata": {},
   "outputs": [
    {
     "name": "stdout",
     "output_type": "stream",
     "text": [
      "Enter the size of the list:- 5\n",
      "enter 5 elements in the list ::\n",
      "element 0 -25\n",
      "element 1 -47\n",
      "element 2 -42\n",
      "element 3 -56\n",
      "element 4 -32\n",
      "The even numbers are  [42, 56, 32]\n",
      "The Odd numbers are [25, 47]\n"
     ]
    }
   ],
   "source": [
    "mainarray=[]\n",
    "evenarray=[]\n",
    "oddarray=[]\n",
    "\n",
    "size=int(input(\"Enter the size of the list:- \"))\n",
    "print(\"enter\",int(size) , \"elements in the list ::\")\n",
    "for i in range(int(size)):\n",
    "    numbers=int(input(\"element %i -\"%i))#refrenced how to use % symbol to concatinate string https://www.geeksforgeeks.org/difference-between-s-and-d-in-python-string/#:~:text=The%20%25d%20operator%20is%20used,integer%20is%20to%20be%20specified.\n",
    "    mainarray.append(numbers)\n",
    "for k in range(int(size)):\n",
    "    if (mainarray[k] % 2 == 0):\n",
    "        evenarray.append(mainarray[k])\n",
    "    else:\n",
    "        oddarray.append(mainarray[k])\n",
    "print(\"The even numbers are \" , evenarray)\n",
    "print(\"The Odd numbers are\" , oddarray)"
   ]
  },
  {
   "cell_type": "markdown",
   "id": "373ac0a5",
   "metadata": {},
   "source": [
    "question 5\n"
   ]
  },
  {
   "cell_type": "code",
   "execution_count": 167,
   "id": "0d7a8f4f",
   "metadata": {},
   "outputs": [],
   "source": [
    "def inside(x,y,x1,y1,x2,y2):\n",
    "    if(x1 == x2 and y1 < y2):\n",
    "        print(\"cannot form traingle with coordinates\")\n",
    "    else:\n",
    "        answer = (x > x1 and x < x2 and y > y1 and y < y2)\n",
    "        print(answer)\n",
    "\n"
   ]
  },
  {
   "cell_type": "code",
   "execution_count": 169,
   "id": "4bfdb3c9",
   "metadata": {},
   "outputs": [
    {
     "name": "stdout",
     "output_type": "stream",
     "text": [
      "False\n"
     ]
    }
   ],
   "source": [
    "inside(1,1,0.3,0.5,1.1,0.7)"
   ]
  },
  {
   "cell_type": "code",
   "execution_count": 170,
   "id": "85d6fb73",
   "metadata": {},
   "outputs": [
    {
     "name": "stdout",
     "output_type": "stream",
     "text": [
      "True\n"
     ]
    }
   ],
   "source": [
    "inside(1,1,0.5,0.2,1.1,2)"
   ]
  },
  {
   "cell_type": "markdown",
   "id": "ef443ab4",
   "metadata": {},
   "source": [
    "question 6"
   ]
  },
  {
   "cell_type": "code",
   "execution_count": 325,
   "id": "a2b5f605",
   "metadata": {},
   "outputs": [],
   "source": [
    "def pig(sentence):\n",
    "    sentence.lower()\n",
    "    words=list(sentence)#used refrence on how to convert string into list https://stackoverflow.com/questions/113655/is-there-a-function-in-python-to-split-a-word-into-a-list\n",
    "    if words[0] in 'a,e,i,o,u':\n",
    "        words.append('way')\n",
    "    else:\n",
    "        words.append(words[0])\n",
    "        words.pop(0)\n",
    "        words.append('ay')\n",
    "    pig_latin=''.join(words)#used refrence on how to join list elements back https://stackoverflow.com/questions/4481724/convert-a-list-of-characters-into-a-string\n",
    "    print(\"pig latin: \",pig_latin)\n",
    "\n"
   ]
  },
  {
   "cell_type": "code",
   "execution_count": 328,
   "id": "1d6aaa3e",
   "metadata": {},
   "outputs": [
    {
     "name": "stdout",
     "output_type": "stream",
     "text": [
      "pig latin:  enterway\n"
     ]
    }
   ],
   "source": [
    "pig('enter')"
   ]
  },
  {
   "cell_type": "code",
   "execution_count": 329,
   "id": "fd49e380",
   "metadata": {},
   "outputs": [
    {
     "name": "stdout",
     "output_type": "stream",
     "text": [
      "pig latin:  appyhay\n"
     ]
    }
   ],
   "source": [
    "pig('happy')"
   ]
  },
  {
   "cell_type": "markdown",
   "id": "2e9b3537",
   "metadata": {},
   "source": [
    "question 7"
   ]
  },
  {
   "cell_type": "code",
   "execution_count": 200,
   "id": "b396c704",
   "metadata": {},
   "outputs": [],
   "source": [
    "def bldcount(filename):\n",
    "    filename=open(filename,'r')\n",
    "    store = filename.readline()\n",
    "    check = store.split()\n",
    "    print(\"There are\", check.count(\"A\"), \"patients of bloodtype A.\")\n",
    "    print(\"There are\" ,check.count(\"B\"), \"patients of bloodtype B\")\n",
    "    print(\"there are\" ,check.count(\"AB\"), \"patients of bloodtype AB\")\n",
    "    print(\"there are\",check.count(\"O\"),\"patients of bloodtype O\")\n",
    "    print(\"there are\", check.count(\"OO\"), \" patients of bloodtype OO\")\n",
    "\n",
    "\n",
    "       \n"
   ]
  },
  {
   "cell_type": "code",
   "execution_count": 201,
   "id": "04d7ca41",
   "metadata": {},
   "outputs": [
    {
     "name": "stdout",
     "output_type": "stream",
     "text": [
      "There are 15 patients of bloodtype A.\n",
      "There are 1 patients of bloodtype B\n",
      "there are 13 patients of bloodtype AB\n",
      "there are 15 patients of bloodtype O\n",
      "there are 0  patients of bloodtype OO\n"
     ]
    }
   ],
   "source": [
    "bldcount(r'C:\\course contents\\Data Programming\\bloodtype.txt')\n"
   ]
  },
  {
   "cell_type": "markdown",
   "id": "c1220ecf",
   "metadata": {},
   "source": [
    "question 8"
   ]
  },
  {
   "cell_type": "code",
   "execution_count": 370,
   "id": "cf54fa14",
   "metadata": {},
   "outputs": [],
   "source": [
    "    store=open(\"C:\\course contents\\Data Programming\\currencies.txt\",'r')\n",
    "    reader=store.readlines()\n",
    "    listmn=[]\n",
    "    for i in reader:\n",
    "        listmn.append(i.split(\"\\t\"))\n",
    "    main={}\n",
    "    listmo=[]\n",
    "    for j in listmn:\n",
    "        listmo.append(j[0])\n",
    "    listmi=[]\n",
    "    for i in listmn:\n",
    "        listmi.append(i[1])\n",
    "    for i in range(len(listmo)):\n",
    "        main[listmo[i]]=listmi[i]\n",
    "    def curconv(currency,value):\n",
    "        if currency in main :\n",
    "            converted = float(value)*float(main[currency])\n",
    "            print(converted)\n",
    "        else:\n",
    "            print(\"invalid input\")\n",
    "        \n",
    "        \n",
    "        \n",
    "    \n",
    "   \n",
    "       \n",
    "        "
   ]
  },
  {
   "cell_type": "code",
   "execution_count": 369,
   "id": "0b62c4e8",
   "metadata": {},
   "outputs": [
    {
     "name": "stdout",
     "output_type": "stream",
     "text": [
      "1.241401\n"
     ]
    }
   ],
   "source": [
    "curconv('JPY','100')"
   ]
  },
  {
   "cell_type": "markdown",
   "id": "53162e80",
   "metadata": {},
   "source": [
    "question 9"
   ]
  },
  {
   "cell_type": "markdown",
   "id": "841391eb",
   "metadata": {},
   "source": [
    "* trying to add incompatible values will give an TypeError\n",
    "* referring to the 12th item of a list which has only 10 items will give an index error\n",
    "* using a value that is out of range for functions input will give a value error\n",
    "* using a undeclared variable will give a name error\n",
    "* trying to open a file that does not exist or mistyping the file name or file path will give a FileNotFoundError\n"
   ]
  },
  {
   "cell_type": "markdown",
   "id": "82988d52",
   "metadata": {},
   "source": [
    "question 10"
   ]
  },
  {
   "cell_type": "code",
   "execution_count": 248,
   "id": "a6baacbd",
   "metadata": {},
   "outputs": [],
   "source": [
    "def frequencies(word):\n",
    "    freq = []\n",
    "    for n in word:\n",
    "        freq.append(word.count(n))\n",
    "        \n",
    "    print(\"frequencies\" , freq )\n",
    "\n",
    "    \n",
    "\n"
   ]
  },
  {
   "cell_type": "code",
   "execution_count": 249,
   "id": "ac7c7819",
   "metadata": {},
   "outputs": [
    {
     "name": "stdout",
     "output_type": "stream",
     "text": [
      "frequencies [1, 2, 5, 8, 1, 1, 1, 1, 1, 8, 2, 5, 3, 8, 1, 4, 1, 8, 1, 4, 2, 8, 1, 4, 2, 5, 3, 8, 1, 2, 3, 8, 1, 5, 2, 2, 8, 2, 4, 1, 5, 1]\n"
     ]
    }
   ],
   "source": [
    "frequencies('The quick red fox got bored and went home.')"
   ]
  }
 ],
 "metadata": {
  "kernelspec": {
   "display_name": "Python 3 (ipykernel)",
   "language": "python",
   "name": "python3"
  },
  "language_info": {
   "codemirror_mode": {
    "name": "ipython",
    "version": 3
   },
   "file_extension": ".py",
   "mimetype": "text/x-python",
   "name": "python",
   "nbconvert_exporter": "python",
   "pygments_lexer": "ipython3",
   "version": "3.9.12"
  }
 },
 "nbformat": 4,
 "nbformat_minor": 5
}
